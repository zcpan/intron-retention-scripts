{
 "cells": [
  {
   "cell_type": "markdown",
   "metadata": {},
   "source": [
    "##xmeans cluster of U introns in three cells"
   ]
  },
  {
   "cell_type": "code",
   "execution_count": 1,
   "metadata": {},
   "outputs": [],
   "source": [
    "import xmeans_cluster"
   ]
  },
  {
   "cell_type": "code",
   "execution_count": 2,
   "metadata": {},
   "outputs": [
    {
     "name": "stdout",
     "output_type": "stream",
     "text": [
      "parsing cell type ESC, experiment polyA\n",
      "...initial 2 clusters\n",
      "...run xmeans\n",
      "...current_cluster_number : 2\n",
      "...clusters : 1, scores : 288584.993359\n",
      "...clusters : 2, scores : 306551.391443\n",
      "...clusters : 1, scores : 3153.50652018\n",
      "...clusters : 2, scores : 4058.3361776\n",
      "...current_cluster_number : 4\n",
      "...clusters : 1, scores : 301304.736317\n",
      "...clusters : 2, scores : 312580.941167\n",
      "...clusters : 1, scores : 33994.2324177\n",
      "...clusters : 2, scores : 33600.9796181\n",
      "...clusters : 1, scores : 4482.15369473\n",
      "...clusters : 2, scores : 4269.72945811\n",
      "...clusters : 1, scores : 699.435054911\n",
      "...clusters : 2, scores : 750.347948381\n",
      "...get clusters\n",
      "...cluster num 4\n",
      "...saving to current directory\n",
      "...A 49981\n",
      "...B 7529\n",
      "...C 1351\n",
      "...D 247\n",
      "parsing cell type NPC, experiment polyA\n",
      "...initial 2 clusters\n",
      "...run xmeans\n",
      "...current_cluster_number : 2\n",
      "...clusters : 1, scores : 271066.981105\n",
      "...clusters : 2, scores : 291218.475841\n",
      "...clusters : 1, scores : 742.426668388\n",
      "...clusters : 2, scores : 921.879676576\n",
      "...current_cluster_number : 4\n",
      "...clusters : 1, scores : 296665.419965\n",
      "...clusters : 2, scores : 310282.202705\n",
      "...clusters : 1, scores : 31614.8651153\n",
      "...clusters : 2, scores : 31436.945628\n",
      "...clusters : 1, scores : 3943.92569097\n",
      "...clusters : 2, scores : 3807.41497959\n",
      "...clusters : 1, scores : 688.077095518\n",
      "...clusters : 2, scores : 713.834127211\n",
      "...get clusters\n",
      "...cluster num 4\n",
      "...saving to current directory\n",
      "...A 48452\n",
      "...B 6903\n",
      "...C 1169\n",
      "...D 248\n",
      "parsing cell type Ctx, experiment polyA\n",
      "...initial 2 clusters\n",
      "...run xmeans\n",
      "...current_cluster_number : 2\n",
      "...clusters : 1, scores : 267408.065024\n",
      "...clusters : 2, scores : 287447.244509\n",
      "...clusters : 1, scores : 2157.4461978\n",
      "...clusters : 2, scores : 2730.96410412\n",
      "...current_cluster_number : 4\n",
      "...clusters : 1, scores : 289590.751098\n",
      "...clusters : 2, scores : 303416.269847\n",
      "...clusters : 1, scores : 24529.9639689\n",
      "...clusters : 2, scores : 23911.7103747\n",
      "...clusters : 1, scores : 2898.15629235\n",
      "...clusters : 2, scores : 2652.38252735\n",
      "...clusters : 1, scores : 898.203580147\n",
      "...clusters : 2, scores : 960.515531418\n",
      "...get clusters\n",
      "...cluster num 4\n",
      "...saving to current directory\n",
      "...A 48833\n",
      "...B 5847\n",
      "...C 962\n",
      "...D 312\n"
     ]
    }
   ],
   "source": [
    "xmeans_cluster.main()"
   ]
  },
  {
   "cell_type": "code",
   "execution_count": null,
   "metadata": {},
   "outputs": [],
   "source": []
  }
 ],
 "metadata": {
  "kernelspec": {
   "display_name": "Python 2",
   "language": "python",
   "name": "python2"
  },
  "language_info": {
   "codemirror_mode": {
    "name": "ipython",
    "version": 2
   },
   "file_extension": ".py",
   "mimetype": "text/x-python",
   "name": "python",
   "nbconvert_exporter": "python",
   "pygments_lexer": "ipython2",
   "version": "2.7.17"
  }
 },
 "nbformat": 4,
 "nbformat_minor": 2
}
